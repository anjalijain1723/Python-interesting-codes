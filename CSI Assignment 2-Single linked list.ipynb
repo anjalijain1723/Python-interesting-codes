{
  "nbformat": 4,
  "nbformat_minor": 0,
  "metadata": {
    "colab": {
      "provenance": [],
      "authorship_tag": "ABX9TyNbHvRar2NPLNF4z0QQ8JuY",
      "include_colab_link": true
    },
    "kernelspec": {
      "name": "python3",
      "display_name": "Python 3"
    },
    "language_info": {
      "name": "python"
    }
  },
  "cells": [
    {
      "cell_type": "markdown",
      "metadata": {
        "id": "view-in-github",
        "colab_type": "text"
      },
      "source": [
        "<a href=\"https://colab.research.google.com/github/anjalijain1723/Python-interesting-codes/blob/main/Single%20linked%20list.ipynb\" target=\"_parent\"><img src=\"https://colab.research.google.com/assets/colab-badge.svg\" alt=\"Open In Colab\"/></a>"
      ]
    },
    {
      "cell_type": "code",
      "execution_count": 1,
      "metadata": {
        "colab": {
          "base_uri": "https://localhost:8080/"
        },
        "id": "mkCYNaU0TfSc",
        "outputId": "a48abfa1-9ffe-4467-bb6a-b097d6b15539"
      },
      "outputs": [
        {
          "output_type": "stream",
          "name": "stdout",
          "text": [
            "Original list:\n",
            "10 -> 20 -> 30 -> 40 -> None\n",
            "Deleted: 30\n",
            "After deleting 3rd node:\n",
            "10 -> 20 -> 40 -> None\n"
          ]
        }
      ],
      "source": [
        "# Node class\n",
        "class Node:\n",
        "    def __init__(self, data):\n",
        "        self.data = data\n",
        "        self.next = None\n",
        "\n",
        "# Linked List class\n",
        "class LinkedList:\n",
        "    def __init__(self):\n",
        "        self.head = None\n",
        "\n",
        "    # Add node at the end\n",
        "    def add_node(self, data):\n",
        "        new_node = Node(data)\n",
        "        if not self.head:  # if list is empty\n",
        "            self.head = new_node\n",
        "        else:\n",
        "            temp = self.head\n",
        "            while temp.next:\n",
        "                temp = temp.next\n",
        "            temp.next = new_node\n",
        "\n",
        "    # Print the list\n",
        "    def print_list(self):\n",
        "        if not self.head:\n",
        "            print(\"List is empty.\")\n",
        "            return\n",
        "        temp = self.head\n",
        "        while temp:\n",
        "            print(temp.data, end=\" -> \")\n",
        "            temp = temp.next\n",
        "        print(\"None\")\n",
        "\n",
        "    # Delete node at a given position (1-based)\n",
        "    def delete_node(self, position):\n",
        "        if not self.head:\n",
        "            print(\"List is empty. Cannot delete.\")\n",
        "            return\n",
        "\n",
        "        if position <= 0:\n",
        "            print(\"Invalid position.\")\n",
        "            return\n",
        "\n",
        "        if position == 1:\n",
        "            deleted = self.head.data\n",
        "            self.head = self.head.next\n",
        "            print(f\"Deleted: {deleted}\")\n",
        "            return\n",
        "\n",
        "        temp = self.head\n",
        "        for i in range(position - 2):\n",
        "            if not temp.next:\n",
        "                print(\"Position out of range.\")\n",
        "                return\n",
        "            temp = temp.next\n",
        "\n",
        "        if not temp.next:\n",
        "            print(\"Position out of range.\")\n",
        "            return\n",
        "\n",
        "        deleted = temp.next.data\n",
        "        temp.next = temp.next.next\n",
        "        print(f\"Deleted: {deleted}\")\n",
        "\n",
        "# Test the LinkedList\n",
        "ll = LinkedList()\n",
        "ll.add_node(10)\n",
        "ll.add_node(20)\n",
        "ll.add_node(30)\n",
        "ll.add_node(40)\n",
        "\n",
        "print(\"Original list:\")\n",
        "ll.print_list()\n",
        "\n",
        "ll.delete_node(3)\n",
        "\n",
        "print(\"After deleting 3rd node:\")\n",
        "ll.print_list()\n"
      ]
    }
  ]
}
